{
 "metadata": {
  "language_info": {
   "codemirror_mode": {
    "name": "ipython",
    "version": 3
   },
   "file_extension": ".py",
   "mimetype": "text/x-python",
   "name": "python",
   "nbconvert_exporter": "python",
   "pygments_lexer": "ipython3",
   "version": "3.7.8-final"
  },
  "orig_nbformat": 2,
  "kernelspec": {
   "name": "python3",
   "display_name": "Python 3",
   "language": "python"
  }
 },
 "nbformat": 4,
 "nbformat_minor": 2,
 "cells": [
  {
   "source": [
    "## singledispatch from python standard library's functools.\n",
    "[Documentation](https://docs.python.org/3/library/functools.html#functools.singledispatch)"
   ],
   "cell_type": "markdown",
   "metadata": {}
  },
  {
   "source": [
    "## Motivation to use this module"
   ],
   "cell_type": "markdown",
   "metadata": {}
  },
  {
   "source": [
    "I want to analyse/take a quick look at my data. Based on the size on the dataset, I may want to use pandas (small data) or pyspark/dask (big data) to play with it.\n",
    "\n",
    "**General Case** > (\n",
    "    You want to implement some action across classes in many packages. You know what result you want, but may need to handle each class in a specific way.\n",
    ")\n"
   ],
   "cell_type": "markdown",
   "metadata": {}
  },
  {
   "cell_type": "code",
   "execution_count": 107,
   "metadata": {},
   "outputs": [],
   "source": [
    "import pandas as pd\n",
    "import pyspark as pys\n",
    "import pyspark.sql.functions as F\n",
    "\n",
    "columns = [\"firstname\",\"middlename\",\"lastname\",\"dob\",\"gender\",\"salary\"]\n",
    "data = [('James','','Smith','1991-04-01','M',3000),\n",
    "  ('Michael','Rose','','2000-05-19','M',4000),\n",
    "  ('Robert','','Williams','1978-09-05','M',4000),\n",
    "  ('Maria','Anne','Jones','1967-12-01','F',4000),\n",
    "  ('Jen','Mary','Brown','1980-02-17','F',-1)\n",
    "]\n",
    "\n",
    "# pandas dataframe\n",
    "df_pandas = pd.DataFrame(data, columns=columns)\n",
    "\n",
    "# pyspark dataframe\n",
    "builder = pys.sql.SparkSession.builder.appName(\"tutorial\")\n",
    "spark = builder.getOrCreate()\n",
    "df_pyspark = spark.createDataFrame(data=data, schema=columns)"
   ]
  },
  {
   "cell_type": "code",
   "execution_count": 108,
   "metadata": {},
   "outputs": [
    {
     "output_type": "execute_result",
     "data": {
      "text/plain": [
       "  firstname middlename  lastname         dob gender  salary\n",
       "0     James                Smith  1991-04-01      M    3000\n",
       "1   Michael       Rose            2000-05-19      M    4000\n",
       "2    Robert             Williams  1978-09-05      M    4000\n",
       "3     Maria       Anne     Jones  1967-12-01      F    4000\n",
       "4       Jen       Mary     Brown  1980-02-17      F      -1"
      ],
      "text/html": "<div>\n<style scoped>\n    .dataframe tbody tr th:only-of-type {\n        vertical-align: middle;\n    }\n\n    .dataframe tbody tr th {\n        vertical-align: top;\n    }\n\n    .dataframe thead th {\n        text-align: right;\n    }\n</style>\n<table border=\"1\" class=\"dataframe\">\n  <thead>\n    <tr style=\"text-align: right;\">\n      <th></th>\n      <th>firstname</th>\n      <th>middlename</th>\n      <th>lastname</th>\n      <th>dob</th>\n      <th>gender</th>\n      <th>salary</th>\n    </tr>\n  </thead>\n  <tbody>\n    <tr>\n      <th>0</th>\n      <td>James</td>\n      <td></td>\n      <td>Smith</td>\n      <td>1991-04-01</td>\n      <td>M</td>\n      <td>3000</td>\n    </tr>\n    <tr>\n      <th>1</th>\n      <td>Michael</td>\n      <td>Rose</td>\n      <td></td>\n      <td>2000-05-19</td>\n      <td>M</td>\n      <td>4000</td>\n    </tr>\n    <tr>\n      <th>2</th>\n      <td>Robert</td>\n      <td></td>\n      <td>Williams</td>\n      <td>1978-09-05</td>\n      <td>M</td>\n      <td>4000</td>\n    </tr>\n    <tr>\n      <th>3</th>\n      <td>Maria</td>\n      <td>Anne</td>\n      <td>Jones</td>\n      <td>1967-12-01</td>\n      <td>F</td>\n      <td>4000</td>\n    </tr>\n    <tr>\n      <th>4</th>\n      <td>Jen</td>\n      <td>Mary</td>\n      <td>Brown</td>\n      <td>1980-02-17</td>\n      <td>F</td>\n      <td>-1</td>\n    </tr>\n  </tbody>\n</table>\n</div>"
     },
     "metadata": {},
     "execution_count": 108
    }
   ],
   "source": [
    "df_pandas.head()"
   ]
  },
  {
   "cell_type": "code",
   "execution_count": 109,
   "metadata": {},
   "outputs": [
    {
     "output_type": "stream",
     "name": "stdout",
     "text": [
      "+---------+----------+--------+----------+------+------+\n|firstname|middlename|lastname|       dob|gender|salary|\n+---------+----------+--------+----------+------+------+\n|    James|          |   Smith|1991-04-01|     M|  3000|\n|  Michael|      Rose|        |2000-05-19|     M|  4000|\n|   Robert|          |Williams|1978-09-05|     M|  4000|\n|    Maria|      Anne|   Jones|1967-12-01|     F|  4000|\n|      Jen|      Mary|   Brown|1980-02-17|     F|    -1|\n+---------+----------+--------+----------+------+------+\n\n"
     ]
    }
   ],
   "source": [
    "df_pyspark.show()"
   ]
  },
  {
   "source": [
    "**What would I like?** I want functions that adapt to both packages even though api calls for similar functionality (head/filter/groupBy etc) are often different on pandas and pyspark. "
   ],
   "cell_type": "markdown",
   "metadata": {}
  },
  {
   "source": [
    "**What does this mean in computer science?** [Parametric Polymorphisim](https://en.wikipedia.org/wiki/Parametric_polymorphism) \n",
    "> In computer science, it describes the concept that objects of different types can be accessed through the same interface. Each type can provide its own, independent implementation of this interface. \n",
    "\n",
    "**How to do it?** [Functional Overloading](https://en.wikipedia.org/wiki/Function_overloading)\n",
    "> In some programming languages, function overloading or method overloading is the ability to create multiple functions of the same name with different implementations. Calls to an overloaded function will run a specific implementation of that function appropriate to the context of the call, allowing one function call to perform different tasks depending on context.\n"
   ],
   "cell_type": "markdown",
   "metadata": {}
  },
  {
   "source": [
    "### In Python, **singledispatch** can be used to achieve polymorphism most of the time. \n",
    "As per PEP-443 , singledispatch only happens based on the first argument’s type"
   ],
   "cell_type": "markdown",
   "metadata": {}
  },
  {
   "source": [
    "## Show me an example already!"
   ],
   "cell_type": "markdown",
   "metadata": {}
  },
  {
   "source": [
    "#### Code without using singledispatch"
   ],
   "cell_type": "markdown",
   "metadata": {}
  },
  {
   "cell_type": "code",
   "execution_count": 114,
   "metadata": {},
   "outputs": [
    {
     "output_type": "stream",
     "name": "stdout",
     "text": [
      "Integer 1 has been processed successfully! \n\n0 ALPS ALPS ALPS \n1 ALPS ALPS ALPS ALPS \n2 ALPS ALPS ALPS ALPS ALPS \n3 ALPS ALPS ALPS ALPS ALPS ALPS \nEnumerated the input list! \n\nNone \n\n"
     ]
    }
   ],
   "source": [
    "from typing import List\n",
    "# procedural\n",
    "def process(input):\n",
    "    if isinstance(input, int):\n",
    "        return process_int(input)\n",
    "    elif isinstance(input, List):\n",
    "        return process_list(input)\n",
    "\n",
    "def process_int(input):\n",
    "    # processing integer\n",
    "    return (f\"Integer {input**3} has been processed successfully!\")\n",
    "\n",
    "def process_list(input):\n",
    "    # processing float\n",
    "    for idx, val in enumerate(input):\n",
    "        print(idx, \"ALPS \"*val)\n",
    "    return \"Enumerated the input list!\"\n",
    "\n",
    "print(process(1), \"\\n\")\n",
    "print(process([3,4,5,6]), \"\\n\")\n",
    "print(process(12.0), \"\\n\") #float should give None\n",
    "\n",
    "\n"
   ]
  },
  {
   "source": [
    "#### Refactored code to use singledispatch"
   ],
   "cell_type": "markdown",
   "metadata": {}
  },
  {
   "cell_type": "code",
   "execution_count": 118,
   "metadata": {},
   "outputs": [],
   "source": [
    "# single_dispatch\n",
    "from functools import singledispatch\n",
    "\n",
    "@singledispatch\n",
    "def process(input):\n",
    "    raise NotImplementedError(\"Implement process function.\")\n",
    "\n",
    "#@function_name.register(type)\n",
    "@process.register(int)\n",
    "def sub_process(input):\n",
    "     return f\"Integer {input**3} has been processed successfully!\"\n",
    "\n",
    "@process.register(list)\n",
    "def sub_process(input):\n",
    "    for idx, val in enumerate(input):\n",
    "        print(idx, \"ALPS \"*val)\n",
    "    return \"Enumerated the input list!\""
   ]
  },
  {
   "cell_type": "code",
   "execution_count": 119,
   "metadata": {},
   "outputs": [
    {
     "output_type": "stream",
     "name": "stdout",
     "text": [
      "Integer 1 has been processed successfully!\n"
     ]
    }
   ],
   "source": [
    "# pass an int\n",
    "print(process(1))\n"
   ]
  },
  {
   "cell_type": "code",
   "execution_count": 120,
   "metadata": {},
   "outputs": [
    {
     "output_type": "stream",
     "name": "stdout",
     "text": [
      "0 ALPS ALPS ALPS \n1 ALPS ALPS ALPS ALPS \n2 ALPS ALPS ALPS ALPS ALPS \n3 ALPS ALPS ALPS ALPS ALPS ALPS \nEnumerated the input list!\n"
     ]
    }
   ],
   "source": [
    "# pass a list\n",
    "print(process([3,4,5,6]))"
   ]
  },
  {
   "cell_type": "code",
   "execution_count": 121,
   "metadata": {},
   "outputs": [
    {
     "output_type": "error",
     "ename": "NotImplementedError",
     "evalue": "Implement process function.",
     "traceback": [
      "\u001b[0;31m---------------------------------------------------------------------------\u001b[0m",
      "\u001b[0;31mNotImplementedError\u001b[0m                       Traceback (most recent call last)",
      "\u001b[0;32m<ipython-input-121-bfe2d7601e82>\u001b[0m in \u001b[0;36m<module>\u001b[0;34m\u001b[0m\n\u001b[1;32m      1\u001b[0m \u001b[0;31m# fails for float\u001b[0m\u001b[0;34m\u001b[0m\u001b[0;34m\u001b[0m\u001b[0;34m\u001b[0m\u001b[0m\n\u001b[0;32m----> 2\u001b[0;31m \u001b[0mprint\u001b[0m\u001b[0;34m(\u001b[0m\u001b[0mprocess\u001b[0m\u001b[0;34m(\u001b[0m\u001b[0;36m12.0\u001b[0m\u001b[0;34m)\u001b[0m\u001b[0;34m)\u001b[0m\u001b[0;34m\u001b[0m\u001b[0;34m\u001b[0m\u001b[0m\n\u001b[0m",
      "\u001b[0;32m~/opt/miniconda3/envs/alps2/lib/python3.7/functools.py\u001b[0m in \u001b[0;36mwrapper\u001b[0;34m(*args, **kw)\u001b[0m\n\u001b[1;32m    838\u001b[0m                             '1 positional argument')\n\u001b[1;32m    839\u001b[0m \u001b[0;34m\u001b[0m\u001b[0m\n\u001b[0;32m--> 840\u001b[0;31m         \u001b[0;32mreturn\u001b[0m \u001b[0mdispatch\u001b[0m\u001b[0;34m(\u001b[0m\u001b[0margs\u001b[0m\u001b[0;34m[\u001b[0m\u001b[0;36m0\u001b[0m\u001b[0;34m]\u001b[0m\u001b[0;34m.\u001b[0m\u001b[0m__class__\u001b[0m\u001b[0;34m)\u001b[0m\u001b[0;34m(\u001b[0m\u001b[0;34m*\u001b[0m\u001b[0margs\u001b[0m\u001b[0;34m,\u001b[0m \u001b[0;34m**\u001b[0m\u001b[0mkw\u001b[0m\u001b[0;34m)\u001b[0m\u001b[0;34m\u001b[0m\u001b[0;34m\u001b[0m\u001b[0m\n\u001b[0m\u001b[1;32m    841\u001b[0m \u001b[0;34m\u001b[0m\u001b[0m\n\u001b[1;32m    842\u001b[0m     \u001b[0mfuncname\u001b[0m \u001b[0;34m=\u001b[0m \u001b[0mgetattr\u001b[0m\u001b[0;34m(\u001b[0m\u001b[0mfunc\u001b[0m\u001b[0;34m,\u001b[0m \u001b[0;34m'__name__'\u001b[0m\u001b[0;34m,\u001b[0m \u001b[0;34m'singledispatch function'\u001b[0m\u001b[0;34m)\u001b[0m\u001b[0;34m\u001b[0m\u001b[0;34m\u001b[0m\u001b[0m\n",
      "\u001b[0;32m<ipython-input-118-a4f00db224e4>\u001b[0m in \u001b[0;36mprocess\u001b[0;34m(input)\u001b[0m\n\u001b[1;32m      4\u001b[0m \u001b[0;34m@\u001b[0m\u001b[0msingledispatch\u001b[0m\u001b[0;34m\u001b[0m\u001b[0;34m\u001b[0m\u001b[0m\n\u001b[1;32m      5\u001b[0m \u001b[0;32mdef\u001b[0m \u001b[0mprocess\u001b[0m\u001b[0;34m(\u001b[0m\u001b[0minput\u001b[0m\u001b[0;34m)\u001b[0m\u001b[0;34m:\u001b[0m\u001b[0;34m\u001b[0m\u001b[0;34m\u001b[0m\u001b[0m\n\u001b[0;32m----> 6\u001b[0;31m     \u001b[0;32mraise\u001b[0m \u001b[0mNotImplementedError\u001b[0m\u001b[0;34m(\u001b[0m\u001b[0;34m\"Implement process function.\"\u001b[0m\u001b[0;34m)\u001b[0m\u001b[0;34m\u001b[0m\u001b[0;34m\u001b[0m\u001b[0m\n\u001b[0m\u001b[1;32m      7\u001b[0m \u001b[0;34m\u001b[0m\u001b[0m\n\u001b[1;32m      8\u001b[0m \u001b[0;31m#@function_name.register(type)\u001b[0m\u001b[0;34m\u001b[0m\u001b[0;34m\u001b[0m\u001b[0;34m\u001b[0m\u001b[0m\n",
      "\u001b[0;31mNotImplementedError\u001b[0m: Implement process function."
     ]
    }
   ],
   "source": [
    "# fails for float\n",
    "print(process(12.0))\n"
   ]
  },
  {
   "cell_type": "code",
   "execution_count": 122,
   "metadata": {},
   "outputs": [],
   "source": [
    "@process.register(float)\n",
    "def sub_process(input):\n",
    "    # processing interger\n",
    "     return f\"Float {input**3} has been processed successfully!\"\n"
   ]
  },
  {
   "cell_type": "code",
   "execution_count": 123,
   "metadata": {},
   "outputs": [
    {
     "output_type": "stream",
     "name": "stdout",
     "text": [
      "Integer 1728.0 has been processed successfully!\n"
     ]
    }
   ],
   "source": [
    "# success for float\n",
    "print(process(12.0))\n"
   ]
  },
  {
   "source": [
    "## Coming back to data science/analysis usage"
   ],
   "cell_type": "markdown",
   "metadata": {}
  },
  {
   "cell_type": "code",
   "execution_count": 124,
   "metadata": {},
   "outputs": [
    {
     "output_type": "execute_result",
     "data": {
      "text/plain": [
       "  firstname middlename  lastname         dob gender  salary\n",
       "0     James                Smith  1991-04-01      M    3000\n",
       "1   Michael       Rose            2000-05-19      M    4000\n",
       "2    Robert             Williams  1978-09-05      M    4000\n",
       "3     Maria       Anne     Jones  1967-12-01      F    4000\n",
       "4       Jen       Mary     Brown  1980-02-17      F      -1"
      ],
      "text/html": "<div>\n<style scoped>\n    .dataframe tbody tr th:only-of-type {\n        vertical-align: middle;\n    }\n\n    .dataframe tbody tr th {\n        vertical-align: top;\n    }\n\n    .dataframe thead th {\n        text-align: right;\n    }\n</style>\n<table border=\"1\" class=\"dataframe\">\n  <thead>\n    <tr style=\"text-align: right;\">\n      <th></th>\n      <th>firstname</th>\n      <th>middlename</th>\n      <th>lastname</th>\n      <th>dob</th>\n      <th>gender</th>\n      <th>salary</th>\n    </tr>\n  </thead>\n  <tbody>\n    <tr>\n      <th>0</th>\n      <td>James</td>\n      <td></td>\n      <td>Smith</td>\n      <td>1991-04-01</td>\n      <td>M</td>\n      <td>3000</td>\n    </tr>\n    <tr>\n      <th>1</th>\n      <td>Michael</td>\n      <td>Rose</td>\n      <td></td>\n      <td>2000-05-19</td>\n      <td>M</td>\n      <td>4000</td>\n    </tr>\n    <tr>\n      <th>2</th>\n      <td>Robert</td>\n      <td></td>\n      <td>Williams</td>\n      <td>1978-09-05</td>\n      <td>M</td>\n      <td>4000</td>\n    </tr>\n    <tr>\n      <th>3</th>\n      <td>Maria</td>\n      <td>Anne</td>\n      <td>Jones</td>\n      <td>1967-12-01</td>\n      <td>F</td>\n      <td>4000</td>\n    </tr>\n    <tr>\n      <th>4</th>\n      <td>Jen</td>\n      <td>Mary</td>\n      <td>Brown</td>\n      <td>1980-02-17</td>\n      <td>F</td>\n      <td>-1</td>\n    </tr>\n  </tbody>\n</table>\n</div>"
     },
     "metadata": {},
     "execution_count": 124
    }
   ],
   "source": [
    "df_pandas.head()"
   ]
  },
  {
   "cell_type": "code",
   "execution_count": 125,
   "metadata": {},
   "outputs": [
    {
     "output_type": "stream",
     "name": "stdout",
     "text": [
      "+---------+----------+--------+----------+------+------+\n|firstname|middlename|lastname|       dob|gender|salary|\n+---------+----------+--------+----------+------+------+\n|    James|          |   Smith|1991-04-01|     M|  3000|\n|  Michael|      Rose|        |2000-05-19|     M|  4000|\n|   Robert|          |Williams|1978-09-05|     M|  4000|\n|    Maria|      Anne|   Jones|1967-12-01|     F|  4000|\n|      Jen|      Mary|   Brown|1980-02-17|     F|    -1|\n+---------+----------+--------+----------+------+------+\n\n"
     ]
    }
   ],
   "source": [
    "df_pyspark.show()"
   ]
  },
  {
   "source": [
    "### Implement a function that outputs top n rows from a dataframe using same function call for a pandas and pyspark dataframe"
   ],
   "cell_type": "markdown",
   "metadata": {}
  },
  {
   "cell_type": "code",
   "execution_count": 127,
   "metadata": {},
   "outputs": [],
   "source": [
    "@singledispatch\n",
    "def show_top_rows(df=None, n=5):\n",
    "    raise NotImplementedError(\"Implement head function. \")\n",
    "\n",
    "@show_top_rows.register(pd.DataFrame)\n",
    "def _show_top_rows_pandas(df, n=5):\n",
    "    return df.head()\n",
    "\n",
    "@show_top_rows.register(pys.sql.DataFrame)\n",
    "def _show_top_rows_pyspark(df, n=5):\n",
    "    return df.show()\n",
    "\n"
   ]
  },
  {
   "cell_type": "code",
   "execution_count": 128,
   "metadata": {},
   "outputs": [
    {
     "output_type": "execute_result",
     "data": {
      "text/plain": [
       "  firstname middlename  lastname         dob gender  salary\n",
       "0     James                Smith  1991-04-01      M    3000\n",
       "1   Michael       Rose            2000-05-19      M    4000\n",
       "2    Robert             Williams  1978-09-05      M    4000\n",
       "3     Maria       Anne     Jones  1967-12-01      F    4000\n",
       "4       Jen       Mary     Brown  1980-02-17      F      -1"
      ],
      "text/html": "<div>\n<style scoped>\n    .dataframe tbody tr th:only-of-type {\n        vertical-align: middle;\n    }\n\n    .dataframe tbody tr th {\n        vertical-align: top;\n    }\n\n    .dataframe thead th {\n        text-align: right;\n    }\n</style>\n<table border=\"1\" class=\"dataframe\">\n  <thead>\n    <tr style=\"text-align: right;\">\n      <th></th>\n      <th>firstname</th>\n      <th>middlename</th>\n      <th>lastname</th>\n      <th>dob</th>\n      <th>gender</th>\n      <th>salary</th>\n    </tr>\n  </thead>\n  <tbody>\n    <tr>\n      <th>0</th>\n      <td>James</td>\n      <td></td>\n      <td>Smith</td>\n      <td>1991-04-01</td>\n      <td>M</td>\n      <td>3000</td>\n    </tr>\n    <tr>\n      <th>1</th>\n      <td>Michael</td>\n      <td>Rose</td>\n      <td></td>\n      <td>2000-05-19</td>\n      <td>M</td>\n      <td>4000</td>\n    </tr>\n    <tr>\n      <th>2</th>\n      <td>Robert</td>\n      <td></td>\n      <td>Williams</td>\n      <td>1978-09-05</td>\n      <td>M</td>\n      <td>4000</td>\n    </tr>\n    <tr>\n      <th>3</th>\n      <td>Maria</td>\n      <td>Anne</td>\n      <td>Jones</td>\n      <td>1967-12-01</td>\n      <td>F</td>\n      <td>4000</td>\n    </tr>\n    <tr>\n      <th>4</th>\n      <td>Jen</td>\n      <td>Mary</td>\n      <td>Brown</td>\n      <td>1980-02-17</td>\n      <td>F</td>\n      <td>-1</td>\n    </tr>\n  </tbody>\n</table>\n</div>"
     },
     "metadata": {},
     "execution_count": 128
    }
   ],
   "source": [
    "show_top_rows(df_pandas, 10)"
   ]
  },
  {
   "cell_type": "code",
   "execution_count": 129,
   "metadata": {},
   "outputs": [
    {
     "output_type": "stream",
     "name": "stdout",
     "text": [
      "+---------+----------+--------+----------+------+------+\n|firstname|middlename|lastname|       dob|gender|salary|\n+---------+----------+--------+----------+------+------+\n|    James|          |   Smith|1991-04-01|     M|  3000|\n|  Michael|      Rose|        |2000-05-19|     M|  4000|\n|   Robert|          |Williams|1978-09-05|     M|  4000|\n|    Maria|      Anne|   Jones|1967-12-01|     F|  4000|\n|      Jen|      Mary|   Brown|1980-02-17|     F|    -1|\n+---------+----------+--------+----------+------+------+\n\n"
     ]
    }
   ],
   "source": [
    "show_top_rows(df_pyspark, 10)"
   ]
  },
  {
   "cell_type": "code",
   "execution_count": 130,
   "metadata": {},
   "outputs": [
    {
     "output_type": "error",
     "ename": "NotImplementedError",
     "evalue": "Implement head function. ",
     "traceback": [
      "\u001b[0;31m---------------------------------------------------------------------------\u001b[0m",
      "\u001b[0;31mNotImplementedError\u001b[0m                       Traceback (most recent call last)",
      "\u001b[0;32m<ipython-input-130-a8bfd2c340a3>\u001b[0m in \u001b[0;36m<module>\u001b[0;34m\u001b[0m\n\u001b[0;32m----> 1\u001b[0;31m \u001b[0mshow_top_rows\u001b[0m\u001b[0;34m(\u001b[0m\u001b[0mdata\u001b[0m\u001b[0;34m)\u001b[0m\u001b[0;34m\u001b[0m\u001b[0;34m\u001b[0m\u001b[0m\n\u001b[0m",
      "\u001b[0;32m~/opt/miniconda3/envs/alps2/lib/python3.7/functools.py\u001b[0m in \u001b[0;36mwrapper\u001b[0;34m(*args, **kw)\u001b[0m\n\u001b[1;32m    838\u001b[0m                             '1 positional argument')\n\u001b[1;32m    839\u001b[0m \u001b[0;34m\u001b[0m\u001b[0m\n\u001b[0;32m--> 840\u001b[0;31m         \u001b[0;32mreturn\u001b[0m \u001b[0mdispatch\u001b[0m\u001b[0;34m(\u001b[0m\u001b[0margs\u001b[0m\u001b[0;34m[\u001b[0m\u001b[0;36m0\u001b[0m\u001b[0;34m]\u001b[0m\u001b[0;34m.\u001b[0m\u001b[0m__class__\u001b[0m\u001b[0;34m)\u001b[0m\u001b[0;34m(\u001b[0m\u001b[0;34m*\u001b[0m\u001b[0margs\u001b[0m\u001b[0;34m,\u001b[0m \u001b[0;34m**\u001b[0m\u001b[0mkw\u001b[0m\u001b[0;34m)\u001b[0m\u001b[0;34m\u001b[0m\u001b[0;34m\u001b[0m\u001b[0m\n\u001b[0m\u001b[1;32m    841\u001b[0m \u001b[0;34m\u001b[0m\u001b[0m\n\u001b[1;32m    842\u001b[0m     \u001b[0mfuncname\u001b[0m \u001b[0;34m=\u001b[0m \u001b[0mgetattr\u001b[0m\u001b[0;34m(\u001b[0m\u001b[0mfunc\u001b[0m\u001b[0;34m,\u001b[0m \u001b[0;34m'__name__'\u001b[0m\u001b[0;34m,\u001b[0m \u001b[0;34m'singledispatch function'\u001b[0m\u001b[0;34m)\u001b[0m\u001b[0;34m\u001b[0m\u001b[0;34m\u001b[0m\u001b[0m\n",
      "\u001b[0;32m<ipython-input-127-5765412a8862>\u001b[0m in \u001b[0;36mshow_top_rows\u001b[0;34m(df, n)\u001b[0m\n\u001b[1;32m      1\u001b[0m \u001b[0;34m@\u001b[0m\u001b[0msingledispatch\u001b[0m\u001b[0;34m\u001b[0m\u001b[0;34m\u001b[0m\u001b[0m\n\u001b[1;32m      2\u001b[0m \u001b[0;32mdef\u001b[0m \u001b[0mshow_top_rows\u001b[0m\u001b[0;34m(\u001b[0m\u001b[0mdf\u001b[0m\u001b[0;34m=\u001b[0m\u001b[0;32mNone\u001b[0m\u001b[0;34m,\u001b[0m \u001b[0mn\u001b[0m\u001b[0;34m=\u001b[0m\u001b[0;36m5\u001b[0m\u001b[0;34m)\u001b[0m\u001b[0;34m:\u001b[0m\u001b[0;34m\u001b[0m\u001b[0;34m\u001b[0m\u001b[0m\n\u001b[0;32m----> 3\u001b[0;31m     \u001b[0;32mraise\u001b[0m \u001b[0mNotImplementedError\u001b[0m\u001b[0;34m(\u001b[0m\u001b[0;34m\"Implement head function. \"\u001b[0m\u001b[0;34m)\u001b[0m\u001b[0;34m\u001b[0m\u001b[0;34m\u001b[0m\u001b[0m\n\u001b[0m\u001b[1;32m      4\u001b[0m \u001b[0;34m\u001b[0m\u001b[0m\n\u001b[1;32m      5\u001b[0m \u001b[0;34m@\u001b[0m\u001b[0mshow_top_rows\u001b[0m\u001b[0;34m.\u001b[0m\u001b[0mregister\u001b[0m\u001b[0;34m(\u001b[0m\u001b[0mpd\u001b[0m\u001b[0;34m.\u001b[0m\u001b[0mDataFrame\u001b[0m\u001b[0;34m)\u001b[0m\u001b[0;34m\u001b[0m\u001b[0;34m\u001b[0m\u001b[0m\n",
      "\u001b[0;31mNotImplementedError\u001b[0m: Implement head function. "
     ]
    }
   ],
   "source": [
    "show_top_rows(data)"
   ]
  },
  {
   "source": [
    "### Now,  filter the dataframe by some column value"
   ],
   "cell_type": "markdown",
   "metadata": {}
  },
  {
   "cell_type": "code",
   "execution_count": 131,
   "metadata": {},
   "outputs": [],
   "source": [
    "@singledispatch\n",
    "def filter_based_on_column_value(df, filter_column:str, filter_value):\n",
    "    raise NotImplementedError(\"Implement filtering on data. Currently not implemented for datatype {}\".format(type(df)))\n",
    "\n",
    "@filter_based_on_column_value.register(pd.DataFrame)\n",
    "def _filter_pandas(df, filter_column, filter_value):\n",
    "    return df[df[filter_column]==filter_value]\n",
    "\n",
    "@filter_based_on_column_value.register(pys.sql.DataFrame)\n",
    "def _filter_pyspark(df, filter_column, filter_value):\n",
    "    return df.filter(F.col(filter_column)==filter_value)"
   ]
  },
  {
   "cell_type": "code",
   "execution_count": 132,
   "metadata": {},
   "outputs": [
    {
     "output_type": "execute_result",
     "data": {
      "text/plain": [
       "  firstname middlename lastname         dob gender  salary\n",
       "0     James               Smith  1991-04-01      M    3000"
      ],
      "text/html": "<div>\n<style scoped>\n    .dataframe tbody tr th:only-of-type {\n        vertical-align: middle;\n    }\n\n    .dataframe tbody tr th {\n        vertical-align: top;\n    }\n\n    .dataframe thead th {\n        text-align: right;\n    }\n</style>\n<table border=\"1\" class=\"dataframe\">\n  <thead>\n    <tr style=\"text-align: right;\">\n      <th></th>\n      <th>firstname</th>\n      <th>middlename</th>\n      <th>lastname</th>\n      <th>dob</th>\n      <th>gender</th>\n      <th>salary</th>\n    </tr>\n  </thead>\n  <tbody>\n    <tr>\n      <th>0</th>\n      <td>James</td>\n      <td></td>\n      <td>Smith</td>\n      <td>1991-04-01</td>\n      <td>M</td>\n      <td>3000</td>\n    </tr>\n  </tbody>\n</table>\n</div>"
     },
     "metadata": {},
     "execution_count": 132
    }
   ],
   "source": [
    "filter_based_on_column_value(df_pandas, \"firstname\", \"James\")"
   ]
  },
  {
   "cell_type": "code",
   "execution_count": 133,
   "metadata": {},
   "outputs": [
    {
     "output_type": "execute_result",
     "data": {
      "text/plain": [
       "DataFrame[firstname: string, middlename: string, lastname: string, dob: string, gender: string, salary: bigint]"
      ]
     },
     "metadata": {},
     "execution_count": 133
    }
   ],
   "source": [
    "filter_based_on_column_value(df_pyspark, \"firstname\", \"James\")"
   ]
  },
  {
   "cell_type": "code",
   "execution_count": 134,
   "metadata": {},
   "outputs": [
    {
     "output_type": "error",
     "ename": "NotImplementedError",
     "evalue": "Implement filtering on data. Currently not implemented for datatype <class 'list'>",
     "traceback": [
      "\u001b[0;31m---------------------------------------------------------------------------\u001b[0m",
      "\u001b[0;31mNotImplementedError\u001b[0m                       Traceback (most recent call last)",
      "\u001b[0;32m<ipython-input-134-a71c17cff44e>\u001b[0m in \u001b[0;36m<module>\u001b[0;34m\u001b[0m\n\u001b[0;32m----> 1\u001b[0;31m \u001b[0mfilter_based_on_column_value\u001b[0m\u001b[0;34m(\u001b[0m\u001b[0mdata\u001b[0m\u001b[0;34m,\u001b[0m \u001b[0;34m\"firstname\"\u001b[0m\u001b[0;34m,\u001b[0m \u001b[0;34m\"James\"\u001b[0m\u001b[0;34m)\u001b[0m\u001b[0;34m\u001b[0m\u001b[0;34m\u001b[0m\u001b[0m\n\u001b[0m",
      "\u001b[0;32m~/opt/miniconda3/envs/alps2/lib/python3.7/functools.py\u001b[0m in \u001b[0;36mwrapper\u001b[0;34m(*args, **kw)\u001b[0m\n\u001b[1;32m    838\u001b[0m                             '1 positional argument')\n\u001b[1;32m    839\u001b[0m \u001b[0;34m\u001b[0m\u001b[0m\n\u001b[0;32m--> 840\u001b[0;31m         \u001b[0;32mreturn\u001b[0m \u001b[0mdispatch\u001b[0m\u001b[0;34m(\u001b[0m\u001b[0margs\u001b[0m\u001b[0;34m[\u001b[0m\u001b[0;36m0\u001b[0m\u001b[0;34m]\u001b[0m\u001b[0;34m.\u001b[0m\u001b[0m__class__\u001b[0m\u001b[0;34m)\u001b[0m\u001b[0;34m(\u001b[0m\u001b[0;34m*\u001b[0m\u001b[0margs\u001b[0m\u001b[0;34m,\u001b[0m \u001b[0;34m**\u001b[0m\u001b[0mkw\u001b[0m\u001b[0;34m)\u001b[0m\u001b[0;34m\u001b[0m\u001b[0;34m\u001b[0m\u001b[0m\n\u001b[0m\u001b[1;32m    841\u001b[0m \u001b[0;34m\u001b[0m\u001b[0m\n\u001b[1;32m    842\u001b[0m     \u001b[0mfuncname\u001b[0m \u001b[0;34m=\u001b[0m \u001b[0mgetattr\u001b[0m\u001b[0;34m(\u001b[0m\u001b[0mfunc\u001b[0m\u001b[0;34m,\u001b[0m \u001b[0;34m'__name__'\u001b[0m\u001b[0;34m,\u001b[0m \u001b[0;34m'singledispatch function'\u001b[0m\u001b[0;34m)\u001b[0m\u001b[0;34m\u001b[0m\u001b[0;34m\u001b[0m\u001b[0m\n",
      "\u001b[0;32m<ipython-input-131-ecfdf60e6627>\u001b[0m in \u001b[0;36mfilter_based_on_column_value\u001b[0;34m(df, filter_column, filter_value)\u001b[0m\n\u001b[1;32m      1\u001b[0m \u001b[0;34m@\u001b[0m\u001b[0msingledispatch\u001b[0m\u001b[0;34m\u001b[0m\u001b[0;34m\u001b[0m\u001b[0m\n\u001b[1;32m      2\u001b[0m \u001b[0;32mdef\u001b[0m \u001b[0mfilter_based_on_column_value\u001b[0m\u001b[0;34m(\u001b[0m\u001b[0mdf\u001b[0m\u001b[0;34m,\u001b[0m \u001b[0mfilter_column\u001b[0m\u001b[0;34m:\u001b[0m\u001b[0mstr\u001b[0m\u001b[0;34m,\u001b[0m \u001b[0mfilter_value\u001b[0m\u001b[0;34m)\u001b[0m\u001b[0;34m:\u001b[0m\u001b[0;34m\u001b[0m\u001b[0;34m\u001b[0m\u001b[0m\n\u001b[0;32m----> 3\u001b[0;31m     \u001b[0;32mraise\u001b[0m \u001b[0mNotImplementedError\u001b[0m\u001b[0;34m(\u001b[0m\u001b[0;34m\"Implement filtering on data. Currently not implemented for datatype {}\"\u001b[0m\u001b[0;34m.\u001b[0m\u001b[0mformat\u001b[0m\u001b[0;34m(\u001b[0m\u001b[0mtype\u001b[0m\u001b[0;34m(\u001b[0m\u001b[0mdf\u001b[0m\u001b[0;34m)\u001b[0m\u001b[0;34m)\u001b[0m\u001b[0;34m)\u001b[0m\u001b[0;34m\u001b[0m\u001b[0;34m\u001b[0m\u001b[0m\n\u001b[0m\u001b[1;32m      4\u001b[0m \u001b[0;34m\u001b[0m\u001b[0m\n\u001b[1;32m      5\u001b[0m \u001b[0;34m@\u001b[0m\u001b[0mfilter_based_on_column_value\u001b[0m\u001b[0;34m.\u001b[0m\u001b[0mregister\u001b[0m\u001b[0;34m(\u001b[0m\u001b[0mpd\u001b[0m\u001b[0;34m.\u001b[0m\u001b[0mDataFrame\u001b[0m\u001b[0;34m)\u001b[0m\u001b[0;34m\u001b[0m\u001b[0;34m\u001b[0m\u001b[0m\n",
      "\u001b[0;31mNotImplementedError\u001b[0m: Implement filtering on data. Currently not implemented for datatype <class 'list'>"
     ]
    }
   ],
   "source": [
    "filter_based_on_column_value(data, \"firstname\", \"James\")"
   ]
  },
  {
   "cell_type": "code",
   "execution_count": 135,
   "metadata": {},
   "outputs": [
    {
     "output_type": "execute_result",
     "data": {
      "text/plain": [
       "  firstname middlename lastname         dob gender  salary\n",
       "0     James               Smith  1991-04-01      M    3000"
      ],
      "text/html": "<div>\n<style scoped>\n    .dataframe tbody tr th:only-of-type {\n        vertical-align: middle;\n    }\n\n    .dataframe tbody tr th {\n        vertical-align: top;\n    }\n\n    .dataframe thead th {\n        text-align: right;\n    }\n</style>\n<table border=\"1\" class=\"dataframe\">\n  <thead>\n    <tr style=\"text-align: right;\">\n      <th></th>\n      <th>firstname</th>\n      <th>middlename</th>\n      <th>lastname</th>\n      <th>dob</th>\n      <th>gender</th>\n      <th>salary</th>\n    </tr>\n  </thead>\n  <tbody>\n    <tr>\n      <th>0</th>\n      <td>James</td>\n      <td></td>\n      <td>Smith</td>\n      <td>1991-04-01</td>\n      <td>M</td>\n      <td>3000</td>\n    </tr>\n  </tbody>\n</table>\n</div>"
     },
     "metadata": {},
     "execution_count": 135
    }
   ],
   "source": [
    "show_top_rows(\n",
    "    filter_based_on_column_value(df_pandas, \"firstname\", \"James\")\n",
    "    )"
   ]
  },
  {
   "cell_type": "code",
   "execution_count": 136,
   "metadata": {},
   "outputs": [
    {
     "output_type": "stream",
     "name": "stdout",
     "text": [
      "+---------+----------+--------+----------+------+------+\n|firstname|middlename|lastname|       dob|gender|salary|\n+---------+----------+--------+----------+------+------+\n|    James|          |   Smith|1991-04-01|     M|  3000|\n+---------+----------+--------+----------+------+------+\n\n"
     ]
    }
   ],
   "source": [
    "show_top_rows(\n",
    "    filter_based_on_column_value(df_pyspark, \"firstname\", \"James\")\n",
    "    )"
   ]
  },
  {
   "cell_type": "code",
   "execution_count": 137,
   "metadata": {},
   "outputs": [],
   "source": [
    "spark.stop()"
   ]
  },
  {
   "source": [
    "P.S: If dispatching on a single parameter is not sufficient, then there is also a 3rd party library called [multipledispatch](https://pypi.org/project/multipledispatch/) that is well maintained\n"
   ],
   "cell_type": "markdown",
   "metadata": {}
  },
  {
   "source": [
    "## References:\n",
    "1. [Confluence Page within C1](https://confluence.kdc.capitalone.com/display/CONVERS/Team+SynApps+Python+Style+Guide)\n",
    "2. [Random Blog post](https://rednafi.github.io/digressions/python/2020/04/05/python-singledispatch.html)\n",
    "3. [Yet Another blog post](https://mchow.com/posts/2020-02-24-single-dispatch-data-science/)"
   ],
   "cell_type": "markdown",
   "metadata": {}
  },
  {
   "cell_type": "code",
   "execution_count": null,
   "metadata": {},
   "outputs": [],
   "source": []
  }
 ]
}